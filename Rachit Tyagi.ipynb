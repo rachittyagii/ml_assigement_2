{
  "metadata": {
    "kernelspec": {
      "name": "python",
      "display_name": "Python (Pyodide)",
      "language": "python"
    },
    "language_info": {
      "codemirror_mode": {
        "name": "python",
        "version": 3
      },
      "file_extension": ".py",
      "mimetype": "text/x-python",
      "name": "python",
      "nbconvert_exporter": "python",
      "pygments_lexer": "ipython3",
      "version": "3.8"
    }
  },
  "nbformat_minor": 4,
  "nbformat": 4,
  "cells": [
    {
      "cell_type": "markdown",
      "source": "Q9.\n",
      "metadata": {}
    },
    {
      "cell_type": "code",
      "source": "import numpy as np\n\ndef initialize_network(num_inputs, num_hidden_layers, num_nodes_hidden, num_nodes_output):\n    network = []\n    num_nodes_prev = num_inputs\n\n    for _ in range(num_hidden_layers):\n        layer = {'weights': np.around(np.random.uniform(size=(num_nodes_prev, num_nodes_hidden)), decimals=2),\n                 'bias': np.around(np.random.uniform(size=(1, num_nodes_hidden)), decimals=2)}\n        network.append(layer)\n        num_nodes_prev = num_nodes_hidden\n\n    output_layer = {'weights': np.around(np.random.uniform(size=(num_nodes_prev, num_nodes_output)), decimals=2),\n                    'bias': np.around(np.random.uniform(size=(1, num_nodes_output)), decimals=2)}\n    network.append(output_layer)\n\n    return network\n\ndef sigmoid(x):\n    return 1 / (1 + np.exp(-x))\n\ndef forward_propagate(network, inputs):\n    layer_inputs = inputs\n\n    for layer in network:\n        layer_outputs = np.dot(layer_inputs, layer['weights']) + layer['bias']\n        layer_outputs = sigmoid(layer_outputs)\n        layer_inputs = layer_outputs\n\n    return layer_outputs\n\n# Example usage:\nnum_inputs = 3\nnum_hidden_layers = 2\nnum_nodes_hidden = 4\nnum_nodes_output = 2\nnetwork = initialize_network(num_inputs, num_hidden_layers, num_nodes_hidden, num_nodes_output)\ninputs = np.around(np.random.uniform(size=(1, num_inputs)), decimals=2)\noutput = forward_propagate(network, inputs)\nprint(\"Output of the neural network:\", output)\n",
      "metadata": {
        "trusted": true
      },
      "outputs": [
        {
          "name": "stdout",
          "text": "Output of the neural network: [[0.83361678 0.89031225]]\n",
          "output_type": "stream"
        }
      ],
      "execution_count": 3
    },
    {
      "cell_type": "markdown",
      "source": "Q10.",
      "metadata": {}
    },
    {
      "cell_type": "code",
      "source": "from sklearn.datasets import load_iris\nfrom sklearn.model_selection import train_test_split\nfrom sklearn.tree import DecisionTreeClassifier\nfrom sklearn.metrics import accuracy_score, classification_report\niris = load_iris()\nX = iris.data\ny = iris.target\nX_train, X_test, y_train, y_test = train_test_split(X, y, test_size=0.2, random_state=42)\nclf = DecisionTreeClassifier()\nclf.fit(X_train, y_train)\ny_pred = clf.predict(X_test)\naccuracy = accuracy_score(y_test, y_pred)\nprint(\"Accuracy:\", accuracy)\nprint(\"\\nClassification Report:\")\nprint(classification_report(y_test, y_pred, target_names=iris.target_names))\n",
      "metadata": {
        "trusted": true
      },
      "outputs": [
        {
          "name": "stdout",
          "text": "Accuracy: 1.0\n\nClassification Report:\n              precision    recall  f1-score   support\n\n      setosa       1.00      1.00      1.00        10\n  versicolor       1.00      1.00      1.00         9\n   virginica       1.00      1.00      1.00        11\n\n    accuracy                           1.00        30\n   macro avg       1.00      1.00      1.00        30\nweighted avg       1.00      1.00      1.00        30\n\n",
          "output_type": "stream"
        }
      ],
      "execution_count": 4
    }
  ]
}